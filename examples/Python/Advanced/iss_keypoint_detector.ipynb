{
 "cells": [
  {
   "cell_type": "code",
   "execution_count": null,
   "metadata": {},
   "outputs": [],
   "source": [
    "import open3d as o3d\n",
    "import numpy as np\n",
    "import os\n",
    "import time\n",
    "import sys\n",
    "\n",
    "# monkey patches visualization and provides helpers to load geometries\n",
    "sys.path.append('..')\n",
    "import open3d_tutorial as o3dtut\n",
    "# change to True if you want to interact with the visualization windows\n",
    "o3dtut.interactive = not \"CI\" in os.environ"
   ]
  },
  {
   "cell_type": "markdown",
   "metadata": {},
   "source": [
    "# Intrinsic Shape Signatures (ISS)\n",
    "\n",
    "Explain here, add refernces"
   ]
  },
  {
   "cell_type": "code",
   "execution_count": null,
   "metadata": {},
   "outputs": [],
   "source": [
    "# Compute ISS Keypoints on Armadillo\n",
    "mesh = o3dtut.get_armadillo_mesh()\n",
    "sampled_cloud = o3d.geometry.PointCloud()\n",
    "sampled_cloud.points = mesh.vertices\n",
    "\n",
    "tic = time.time()\n",
    "keypoints = o3d.keypoints.compute_iss_keypoints(sampled_cloud, 0, 0)\n",
    "print(\"ISS Computation took {:.0f} [ms]\".format(1000 * (time.time() - tic)))\n",
    "\n",
    "mesh.compute_triangle_normals()\n",
    "mesh.compute_vertex_normals()\n",
    "mesh.paint_uniform_color([0.5, 0.5, 0.5])\n",
    "keypoints.paint_uniform_color([1.0, 0.75, 0.0])\n",
    "o3d.visualization.draw_geometries([keypoints, mesh])"
   ]
  },
  {
   "cell_type": "code",
   "execution_count": null,
   "metadata": {},
   "outputs": [],
   "source": [
    "# Compute ISS Keypoints on Standford Bunny\n",
    "mesh = o3dtut.get_bunny_mesh()\n",
    "sampled_cloud = o3d.geometry.PointCloud()\n",
    "sampled_cloud.points = mesh.vertices\n",
    "\n",
    "tic = time.time()\n",
    "keypoints = o3d.keypoints.compute_iss_keypoints(sampled_cloud, 0, 0)\n",
    "print(\"ISS Computation took {:.0f} [ms]\".format(1000 * (time.time() - tic)))\n",
    "\n",
    "mesh.compute_triangle_normals()\n",
    "mesh.compute_vertex_normals()\n",
    "mesh.paint_uniform_color([0.5, 0.5, 0.5])\n",
    "keypoints.paint_uniform_color([1.0, 0.75, 0.0])\n",
    "o3d.visualization.draw_geometries([keypoints, mesh])"
   ]
  },
  {
   "cell_type": "code",
   "execution_count": null,
   "metadata": {},
   "outputs": [],
   "source": [
    "# It also works on Point Clouds!\n",
    "cloud = o3dtut.get_eagle_pcd()\n",
    "\n",
    "tic = time.time()\n",
    "keypoints = o3d.keypoints.compute_iss_keypoints(cloud, 0, 0)\n",
    "print(\"ISS Computation took {:.0f} [ms]\".format(1000 * (time.time() - tic)))\n",
    "\n",
    "keypoints.paint_uniform_color([1.0, 0.75, 0.0])\n",
    "o3d.visualization.draw_geometries([keypoints, cloud])"
   ]
  }
 ],
 "metadata": {
  "kernelspec": {
   "display_name": "'Python Interactive'",
   "language": "python",
   "name": "e4a35403-8988-4173-8f29-e202a2bccd27"
  },
  "language_info": {
   "codemirror_mode": {
    "name": "ipython",
    "version": 3
   },
   "file_extension": ".py",
   "mimetype": "text/x-python",
   "name": "python",
   "nbconvert_exporter": "python",
   "pygments_lexer": "ipython3",
   "version": "3.6.9"
  }
 },
 "nbformat": 4,
 "nbformat_minor": 2
}
