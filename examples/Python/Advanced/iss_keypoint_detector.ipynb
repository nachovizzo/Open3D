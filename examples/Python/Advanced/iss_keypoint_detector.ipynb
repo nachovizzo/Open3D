{
 "cells": [
  {
   "cell_type": "code",
   "execution_count": null,
   "metadata": {},
   "outputs": [],
   "source": [
    "import open3d as o3d\n",
    "import numpy as np\n",
    "import os\n",
    "import time\n",
    "import sys\n",
    "\n",
    "# monkey patches visualization and provides helpers to load geometries\n",
    "sys.path.append('..')\n",
    "import open3d_tutorial as o3dtut\n",
    "# change to True if you want to interact with the visualization windows\n",
    "o3dtut.interactive = not \"CI\" in os.environ"
   ]
  },
  {
   "cell_type": "markdown",
   "metadata": {},
   "source": [
    "# Intrinsic Shape Signatures (ISS)\n",
    "\n",
    "In this tutorial we will show how to detect the **ISS** Keypoints of a 3D shape. The implementation is based on the keypoint detection modules proposed in Yu Zhong , \"Intrinsic Shape Signatures: A Shape Descriptor for 3D Object Recognition\", 2009.\n",
    "\n",
    "\n",
    "## ISS Keypoints\n",
    "\n",
    "ISS saliency measure is based on the Eigenvalue Decomposition (EVD) of the scatter matrix $\\boldsymbol{\\Sigma}(\\mathbf{p})$ of the points belonging to the support of $p$, i.e.\n",
    "\n",
    "$$\\begin{array}{l}\n",
    "\\boldsymbol{\\Sigma}(\\mathbf{p})=\\frac{1}{N} \\sum_{\\mathbf{q} \\in \\mathcal{N}(\\mathbf{p})}\\left(\\mathbf{q}-\\mu_{\\mathbf{p}}\\right)\\left(\\mathbf{q}-\\mu_{\\mathbf{p}}\\right)^{T} \\quad \\text { with } \\\\\n",
    "\\mu_{\\mathbf{p}}=\\frac{1}{N} \\sum_{\\mathbf{q} \\in \\mathcal{N}(\\mathbf{p})} \\mathbf{q}\n",
    "\\end{array}$$\n",
    "\n",
    "Given $\\boldsymbol{\\Sigma}(\\mathbf{p})$, its eigenvalues in decreasing magnitude order are denoted here as $\\lambda_1$, $\\lambda_2$, $\\lambda_3$. During the pruning stage, points whose ratio between two successive eigenvalues is below a threshold are retained:\n",
    "\n",
    "$$\\frac{\\lambda_{2}(\\mathbf{p})}{\\lambda_{1}(\\mathbf{p})}<\\gamma_{12} \\wedge \\frac{\\lambda_{3}(\\mathbf{p})}{\\lambda_{2}(\\mathbf{p})}<\\gamma_{23}$$\n",
    "\n",
    "The rationale is to avoid detecting keypoints at points exhibiting a similar spread along the principal directions, where a repeatable canonical reference frame cannot be established and, therefore, the subsequent description stage can hardly turn out effective. Among remaining points, the saliency is determined by the magnitude of the smallest eigenvalue\n",
    "\n",
    "$$\\rho(\\mathbf{p}) \\doteq \\lambda_{3}(\\mathbf{p})$$\n",
    "\n",
    "So as to include only points with large variations along each principal direction.\n",
    "\n",
    "After the detection step, a point will be considered a **keypoint** if it has the maxium saliency value on a given neighborhood.\n",
    "\n",
    "**NOTE:** For more details please reffer to the original publication or to \"Performance Evaluation of 3D Keypoint Detectors\", by Tombari et.al.\n",
    "\n",
    "## ISS Keypoint Detection Module\n",
    "\n",
    "This module consist in two submodules\n",
    " - The `compute_iss_keypoints` function, that detect the keypoints on a given point cloud. The only parameters that can be changed are the `salient_radius` and the `non_max_radius`. If you need more manipulation then use the class.\n",
    " - The `ISSDetector` class, that could be used to change the parameters of the algorithm\n"
   ]
  },
  {
   "cell_type": "code",
   "execution_count": null,
   "metadata": {},
   "outputs": [],
   "source": [
    "# Compute ISS Keypoints on Armadillo\n",
    "mesh = o3dtut.get_armadillo_mesh()\n",
    "sampled_cloud = o3d.geometry.PointCloud()\n",
    "sampled_cloud.points = mesh.vertices\n",
    "\n",
    "tic = time.time()\n",
    "keypoints = o3d.keypoints.compute_iss_keypoints(sampled_cloud)\n",
    "toc = 1000 * (time.time() - tic)\n",
    "print(\"ISS Computation took {:.0f} [ms]\".format(toc))\n",
    "    \n",
    "mesh.compute_triangle_normals()\n",
    "mesh.compute_vertex_normals()\n",
    "mesh.paint_uniform_color([0.5, 0.5, 0.5])\n",
    "keypoints.paint_uniform_color([1.0, 0.75, 0.0])\n",
    "o3d.visualization.draw_geometries([keypoints, mesh])"
   ]
  },
  {
   "cell_type": "code",
   "execution_count": null,
   "metadata": {},
   "outputs": [],
   "source": [
    "# Compute ISS Keypoints on Standford Bunny, manipulating the parameters\n",
    "mesh = o3dtut.get_bunny_mesh()\n",
    "sampled_cloud = o3d.geometry.PointCloud()\n",
    "sampled_cloud.points = mesh.vertices\n",
    "\n",
    "tic = time.time()\n",
    "detector = o3d.keypoints.ISSDetector(sampled_cloud, 0.005, 0.005)\n",
    "detector.gamma_21 = 0.5\n",
    "detector.gamma_32 = 0.5\n",
    "keypoints = detector.compute_keypoints()\n",
    "toc = 1000 * (time.time() - tic)\n",
    "print(\"ISS Computation took {:.0f} [ms]\".format(toc))\n",
    "\n",
    "mesh.compute_triangle_normals()\n",
    "mesh.compute_vertex_normals()\n",
    "mesh.paint_uniform_color([0.5, 0.5, 0.5])\n",
    "keypoints.paint_uniform_color([1.0, 0.75, 0.0])\n",
    "o3d.visualization.draw_geometries([keypoints, mesh])"
   ]
  }
 ],
 "metadata": {
  "kernelspec": {
   "display_name": "'Python Interactive'",
   "language": "python",
   "name": "e4a35403-8988-4173-8f29-e202a2bccd27"
  },
  "language_info": {
   "codemirror_mode": {
    "name": "ipython",
    "version": 3
   },
   "file_extension": ".py",
   "mimetype": "text/x-python",
   "name": "python",
   "nbconvert_exporter": "python",
   "pygments_lexer": "ipython3",
   "version": "3.6.9"
  }
 },
 "nbformat": 4,
 "nbformat_minor": 4
}
